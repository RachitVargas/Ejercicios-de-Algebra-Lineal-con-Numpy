{
 "cells": [
  {
   "cell_type": "markdown",
   "metadata": {},
   "source": [
    "# Tarea de algebra linea con python\n",
    "# Rachit Vargas"
   ]
  },
  {
   "cell_type": "markdown",
   "metadata": {},
   "source": [
    "###### Ejercicio 1"
   ]
  },
  {
   "cell_type": "code",
   "execution_count": 1,
   "metadata": {},
   "outputs": [
    {
     "name": "stdout",
     "output_type": "stream",
     "text": [
      "[ -7 -14  13  45   0]\n"
     ]
    }
   ],
   "source": [
    "import numpy as np\n",
    "\n",
    "a = np.array([2,-5,4,6,-3])\n",
    "b = np.array([5,-2,1,-7,-4])\n",
    "\n",
    "u = 4 * a\n",
    "v = 3 * b\n",
    "resultado = u - v\n",
    "print(resultado)"
   ]
  },
  {
   "cell_type": "markdown",
   "metadata": {},
   "source": [
    "##### Ejercicio 2"
   ]
  },
  {
   "cell_type": "code",
   "execution_count": 2,
   "metadata": {},
   "outputs": [
    {
     "name": "stdout",
     "output_type": "stream",
     "text": [
      "[ 25 -31  23   9 -27]\n"
     ]
    }
   ],
   "source": [
    "import numpy as np\n",
    "\n",
    "a = np.array([2,-5,4,6,-3])\n",
    "b = np.array([5,-2,1,-7,-4])\n",
    "\n",
    "u =  5 * a\n",
    "v = 3 * b\n",
    "\n",
    "resultado = u + v\n",
    "print(resultado)"
   ]
  },
  {
   "cell_type": "markdown",
   "metadata": {},
   "source": [
    "##### Ejercicio 3"
   ]
  },
  {
   "cell_type": "code",
   "execution_count": 3,
   "metadata": {},
   "outputs": [
    {
     "name": "stdout",
     "output_type": "stream",
     "text": [
      "-6\n"
     ]
    }
   ],
   "source": [
    "import numpy as np\n",
    "\n",
    "a = np.array([2,-5,4,6,-3])\n",
    "b = np.array([5,-2,1,-7,-4])\n",
    "\n",
    "resultado = np.dot(a,b)\n",
    "print(resultado)"
   ]
  },
  {
   "cell_type": "markdown",
   "metadata": {},
   "source": [
    "##### Ejercicio 4"
   ]
  },
  {
   "cell_type": "code",
   "execution_count": 1,
   "metadata": {},
   "outputs": [
    {
     "name": "stdout",
     "output_type": "stream",
     "text": [
      "9.486832980505138\n",
      "9.746794344808963\n"
     ]
    }
   ],
   "source": [
    "import numpy as np\n",
    "\n",
    "a = np.array([2,-5,4,6,-3])\n",
    "b = np.array([5,-2,1,-7,-4])\n",
    "\n",
    "norma_u = np.linalg.norm(a)\n",
    "norma_v = np.linalg.norm(b)\n",
    "\n",
    "print(norma_u)\n",
    "print(norma_v)"
   ]
  },
  {
   "cell_type": "markdown",
   "metadata": {},
   "source": [
    "##### Ejercicio 5"
   ]
  },
  {
   "cell_type": "code",
   "execution_count": 1,
   "metadata": {},
   "outputs": [
    {
     "name": "stdout",
     "output_type": "stream",
     "text": [
      "[-0.31578947  0.12631579 -0.06315789  0.44210526  0.25263158]\n"
     ]
    }
   ],
   "source": [
    "import numpy as np\n",
    "\n",
    "a = np.array([2,-5,4,6,-3])\n",
    "b = np.array([5,-2,1,-7,-4])\n",
    "\n",
    "\n",
    "def mul(a, b):\n",
    "    return np.dot(a,b)\n",
    "\n",
    "def norma_2(b):\n",
    "    return np.linalg.norm(b) ** 2\n",
    "\n",
    "def resul (calcular_mul, calcular_norma_2):\n",
    "    return calcular_mul / calcular_norma_2\n",
    "\n",
    "calcular_mul = mul(a,b)\n",
    "calcular_norma_2 = norma_2(b)\n",
    "resultado = resul(calcular_mul, calcular_norma_2)\n",
    "\n",
    "proj = resultado * b\n",
    "print(proj)"
   ]
  },
  {
   "cell_type": "markdown",
   "metadata": {},
   "source": [
    "##### Ejercicio 6"
   ]
  },
  {
   "cell_type": "code",
   "execution_count": 3,
   "metadata": {},
   "outputs": [
    {
     "name": "stdout",
     "output_type": "stream",
     "text": [
      "14.035668847618199\n"
     ]
    }
   ],
   "source": [
    "import numpy as np\n",
    "\n",
    "a = np.array([2,-5,4,6,-3])\n",
    "b = np.array([5,-2,1,-7,-4])\n",
    "\n",
    "\n",
    "def dist(a,b):\n",
    "    return np.linalg.norm(a - b)\n",
    "\n",
    "distancia = dist(a,b)\n",
    "print(distancia)"
   ]
  },
  {
   "cell_type": "markdown",
   "metadata": {},
   "source": [
    "## Determinar el vector v identificado con el segmento de linea dirigido PQ para los puntos P(1,−8,−4,6) y Q(3, −5, 2, −4)\n"
   ]
  },
  {
   "cell_type": "code",
   "execution_count": 5,
   "metadata": {},
   "outputs": [
    {
     "name": "stdout",
     "output_type": "stream",
     "text": [
      "[  2   3   6 -10]\n"
     ]
    }
   ],
   "source": [
    "import numpy as np\n",
    "\n",
    "p = np.array([1, -8, -4, 6])\n",
    "q = np.array([3, -5, 2, -4])\n",
    "\n",
    "v = q - p\n",
    "print(v)"
   ]
  },
  {
   "cell_type": "markdown",
   "metadata": {},
   "source": [
    "## Determinar un vector unitario w ortogonal a u = [1, 2, 3] y v = [1, −1, 2]\n"
   ]
  },
  {
   "cell_type": "code",
   "execution_count": 9,
   "metadata": {},
   "outputs": [
    {
     "name": "stdout",
     "output_type": "stream",
     "text": [
      "[ 0.91132238  0.13018891 -0.39056673]\n"
     ]
    }
   ],
   "source": [
    "import numpy as np\n",
    "\n",
    "u = np.array([1, 2, 3])\n",
    "v = np.array([1, -1, 2])\n",
    "\n",
    "\n",
    "def calcul_cross(u,v):\n",
    "    return np.cross(u, v)\n",
    "\n",
    "def norma_cruz(cruz):\n",
    "    return np.linalg.norm(cruz)\n",
    "\n",
    "cruz = calcul_cross(u,v)\n",
    "norma = norma_cruz(cruz)\n",
    "w = cruz / norma\n",
    "\n",
    "print(w)"
   ]
  },
  {
   "cell_type": "markdown",
   "metadata": {},
   "source": [
    "## Calcular ( u x v ) dados u = 3i − 4j + 2k y v= 21i + 5j − 3k"
   ]
  },
  {
   "cell_type": "code",
   "execution_count": 8,
   "metadata": {},
   "outputs": [
    {
     "name": "stdout",
     "output_type": "stream",
     "text": [
      "[ 2 51 99]\n"
     ]
    }
   ],
   "source": [
    "import numpy as np\n",
    "\n",
    "\n",
    "u = np.array([3, -4, 2])\n",
    "v = np.array([21, 5, -3])\n",
    "\n",
    "resultado = np.cross(u,v)\n",
    "print(resultado)"
   ]
  },
  {
   "cell_type": "markdown",
   "metadata": {},
   "source": [
    "## Sea u = (1 + 7i , 2 − 6i) y v = (5 − 2i , 3 − 4i) determine:"
   ]
  },
  {
   "cell_type": "markdown",
   "metadata": {},
   "source": [
    "##### u + v"
   ]
  },
  {
   "cell_type": "code",
   "execution_count": 4,
   "metadata": {},
   "outputs": [
    {
     "name": "stdout",
     "output_type": "stream",
     "text": [
      "[6. +5.j 5.-10.j]\n"
     ]
    }
   ],
   "source": [
    "import numpy as np\n",
    "\n",
    "\n",
    "u = np.array([1 + 7j, 2 - 6j])\n",
    "v = np.array([5 -2j, 3 - 4j])\n",
    "\n",
    "resultado = u + v\n",
    "\n",
    "print(resultado)"
   ]
  },
  {
   "cell_type": "markdown",
   "metadata": {},
   "source": [
    "##### (3 + 1j) * u"
   ]
  },
  {
   "cell_type": "code",
   "execution_count": 1,
   "metadata": {},
   "outputs": [
    {
     "name": "stdout",
     "output_type": "stream",
     "text": [
      "[-4.+22.j 12.-16.j]\n"
     ]
    }
   ],
   "source": [
    "import numpy as np\n",
    "\n",
    "a = np.array([3 + 1j])\n",
    "u = np.array([1 + 7j, 2 -6j])\n",
    "resultado = a * u\n",
    "\n",
    "print(resultado)"
   ]
  },
  {
   "cell_type": "markdown",
   "metadata": {},
   "source": [
    "###### u * v"
   ]
  },
  {
   "cell_type": "code",
   "execution_count": 5,
   "metadata": {},
   "outputs": [
    {
     "name": "stdout",
     "output_type": "stream",
     "text": [
      "[ 19.+33.j -18.-26.j]\n"
     ]
    }
   ],
   "source": [
    "import numpy as np\n",
    "\n",
    "\n",
    "u = np.array([1 + 7j, 2 - 6j])\n",
    "v = np.array([5 -2j, 3 - 4j])\n",
    "\n",
    "resultado = u * v\n",
    "\n",
    "print(resultado)"
   ]
  },
  {
   "cell_type": "markdown",
   "metadata": {},
   "source": [
    "##### || u || y || v ||"
   ]
  },
  {
   "cell_type": "code",
   "execution_count": 7,
   "metadata": {},
   "outputs": [
    {
     "name": "stdout",
     "output_type": "stream",
     "text": [
      "9.486832980505138\n",
      "7.3484692283495345\n"
     ]
    }
   ],
   "source": [
    "import numpy as np\n",
    "\n",
    "\n",
    "u = np.array([1 + 7j, 2 - 6j])\n",
    "v = np.array([5 -2j, 3 - 4j])\n",
    "\n",
    "resultado_1 = np.linalg.norm(u)\n",
    "resultado_2 = np.linalg.norm(v)\n",
    "\n",
    "print(resultado_1)\n",
    "print(resultado_2)"
   ]
  },
  {
   "cell_type": "markdown",
   "metadata": {},
   "source": [
    "## Ejercicio de matrices"
   ]
  },
  {
   "cell_type": "markdown",
   "metadata": {},
   "source": [
    "##### B * A y B * A"
   ]
  },
  {
   "cell_type": "code",
   "execution_count": 1,
   "metadata": {},
   "outputs": [
    {
     "name": "stdout",
     "output_type": "stream",
     "text": [
      "Ha ocurrido un error en esta operacion\n",
      "[[  17   33 -120]\n",
      " [  16   18   24]]\n"
     ]
    }
   ],
   "source": [
    "import numpy as np\n",
    "\n",
    "a = np.array([[9,1,-3], [6, -5, 4], [7, 2, 8]])\n",
    "b = np.array([[12, -7, -7], [0, -2, 4]])\n",
    "\n",
    "result_1 = 0\n",
    "\n",
    "try:    \n",
    "    result_1 = np.dot(a, b)\n",
    "    print(result_1)\n",
    "\n",
    "except:\n",
    "    \n",
    "    print(\"Ha ocurrido un error en esta operacion\")\n",
    "    \n",
    "result_2 = 0\n",
    "\n",
    "try:    \n",
    "    result_2 = np.dot(b, a)\n",
    "    print(result_2)\n",
    "except:\n",
    "    print(\"Ha ocurrido un error en esta operacion\")\n",
    "    "
   ]
  },
  {
   "cell_type": "markdown",
   "metadata": {},
   "source": [
    "#### I * A y 0 * A"
   ]
  },
  {
   "cell_type": "code",
   "execution_count": 2,
   "metadata": {},
   "outputs": [
    {
     "name": "stdout",
     "output_type": "stream",
     "text": [
      "[[ 9.  1. -3.]\n",
      " [ 6. -5.  4.]\n",
      " [ 7.  2.  8.]]\n",
      "[[0 0 0]\n",
      " [0 0 0]\n",
      " [0 0 0]]\n"
     ]
    }
   ],
   "source": [
    "import numpy as np\n",
    "\n",
    "identidad = np.identity(3)\n",
    "a = np.array([[9,1,-3], [6, -5, 4], [7, 2, 8]])\n",
    "\n",
    "resultado = np.dot(identidad, a)\n",
    "\n",
    "escalar = 0\n",
    "\n",
    "resultado_2 = np.dot(escalar, a)\n",
    "\n",
    "print(resultado)\n",
    "print(resultado_2)"
   ]
  },
  {
   "cell_type": "markdown",
   "metadata": {},
   "source": [
    "###### A^T y A + A^T"
   ]
  },
  {
   "cell_type": "code",
   "execution_count": 3,
   "metadata": {},
   "outputs": [
    {
     "name": "stdout",
     "output_type": "stream",
     "text": [
      "[[ 9  6  7]\n",
      " [ 1 -5  2]\n",
      " [-3  4  8]]\n",
      "[[ 18   7   4]\n",
      " [  7 -10   6]\n",
      " [  4   6  16]]\n"
     ]
    }
   ],
   "source": [
    "import numpy as np\n",
    "\n",
    "a = np.array([[9,1,-3], [6, -5, 4], [7, 2, 8]])\n",
    "a_traspuesta = a.T\n",
    "print(a_traspuesta)\n",
    "    \n",
    "\n",
    "result = a + a_traspuesta\n",
    "print(result)\n"
   ]
  },
  {
   "cell_type": "markdown",
   "metadata": {},
   "source": [
    "##### C = BB^T"
   ]
  },
  {
   "cell_type": "code",
   "execution_count": 6,
   "metadata": {},
   "outputs": [
    {
     "name": "stdout",
     "output_type": "stream",
     "text": [
      "[[242 -14]\n",
      " [-14  20]]\n",
      "[[242 -14]\n",
      " [-14  20]]\n",
      "Esta matriz es simetrica\n"
     ]
    }
   ],
   "source": [
    "import numpy as np\n",
    "\n",
    "b = np.array([[12, -7, -7], [0, -2, 4]])\n",
    "b_traspuesta = b.T\n",
    "\n",
    "c = np.dot(b, b_traspuesta)\n",
    "print(c)\n",
    "print(c.T)\n",
    "\n",
    "if (c == c.T).any():\n",
    "    print('Esta matriz es simetrica')\n",
    "else:\n",
    "    print('Esta matriz no  es simetricas')"
   ]
  },
  {
   "cell_type": "markdown",
   "metadata": {},
   "source": [
    "##### Dertminante de C"
   ]
  },
  {
   "cell_type": "code",
   "execution_count": 7,
   "metadata": {},
   "outputs": [
    {
     "name": "stdout",
     "output_type": "stream",
     "text": [
      "4643.999999999999\n"
     ]
    }
   ],
   "source": [
    "import numpy as np\n",
    "\n",
    "b = np.array([[12, -7, -7], [0, -2, 4]])\n",
    "b_traspuesta = b.T\n",
    "\n",
    "c = np.dot(b, b_traspuesta)\n",
    "\n",
    "determinante_c = np.linalg.det(c)\n",
    "print(determinante_c)"
   ]
  },
  {
   "cell_type": "markdown",
   "metadata": {},
   "source": [
    "##### Matriz inverso de C"
   ]
  },
  {
   "cell_type": "code",
   "execution_count": 8,
   "metadata": {},
   "outputs": [
    {
     "name": "stdout",
     "output_type": "stream",
     "text": [
      "[[0.00430663 0.00301464]\n",
      " [0.00301464 0.05211025]]\n"
     ]
    }
   ],
   "source": [
    "import numpy as np\n",
    "\n",
    "b = np.array([[12, -7, -7], [0, -2, 4]])\n",
    "b_traspuesta = b.T\n",
    "\n",
    "c = np.dot(b, b_traspuesta)\n",
    "\n",
    "c_inverso = np.linalg.inv(c)\n",
    "print(c_inverso)"
   ]
  }
 ],
 "metadata": {
  "kernelspec": {
   "display_name": "Python 3",
   "language": "python",
   "name": "python3"
  },
  "language_info": {
   "codemirror_mode": {
    "name": "ipython",
    "version": 3
   },
   "file_extension": ".py",
   "mimetype": "text/x-python",
   "name": "python",
   "nbconvert_exporter": "python",
   "pygments_lexer": "ipython3",
   "version": "3.8.3"
  }
 },
 "nbformat": 4,
 "nbformat_minor": 4
}
